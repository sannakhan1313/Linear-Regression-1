{
 "cells": [
  {
   "cell_type": "code",
   "execution_count": 1,
   "metadata": {},
   "outputs": [],
   "source": [
    "#import the libraries\n",
    "import pandas as pd\n",
    "import numpy as np\n",
    "import matplotlib.pyplot as plt\n",
    "import seaborn as sns"
   ]
  },
  {
   "cell_type": "code",
   "execution_count": 2,
   "metadata": {},
   "outputs": [],
   "source": [
    "#load the dataset\n",
    "df = pd.read_csv('50_Startups.csv')"
   ]
  },
  {
   "cell_type": "code",
   "execution_count": 3,
   "metadata": {},
   "outputs": [
    {
     "data": {
      "text/plain": [
       "(50, 5)"
      ]
     },
     "execution_count": 3,
     "metadata": {},
     "output_type": "execute_result"
    }
   ],
   "source": [
    "df.shape"
   ]
  },
  {
   "cell_type": "code",
   "execution_count": 7,
   "metadata": {},
   "outputs": [
    {
     "name": "stdout",
     "output_type": "stream",
     "text": [
      "<class 'pandas.core.frame.DataFrame'>\n",
      "RangeIndex: 50 entries, 0 to 49\n",
      "Data columns (total 5 columns):\n",
      " #   Column           Non-Null Count  Dtype  \n",
      "---  ------           --------------  -----  \n",
      " 0   R&D Spend        50 non-null     float64\n",
      " 1   Administration   50 non-null     float64\n",
      " 2   Marketing Spend  50 non-null     float64\n",
      " 3   State            50 non-null     object \n",
      " 4   Profit           50 non-null     float64\n",
      "dtypes: float64(4), object(1)\n",
      "memory usage: 2.1+ KB\n"
     ]
    }
   ],
   "source": [
    "df.info()"
   ]
  },
  {
   "cell_type": "code",
   "execution_count": 8,
   "metadata": {},
   "outputs": [
    {
     "data": {
      "text/html": [
       "<div>\n",
       "<style scoped>\n",
       "    .dataframe tbody tr th:only-of-type {\n",
       "        vertical-align: middle;\n",
       "    }\n",
       "\n",
       "    .dataframe tbody tr th {\n",
       "        vertical-align: top;\n",
       "    }\n",
       "\n",
       "    .dataframe thead th {\n",
       "        text-align: right;\n",
       "    }\n",
       "</style>\n",
       "<table border=\"1\" class=\"dataframe\">\n",
       "  <thead>\n",
       "    <tr style=\"text-align: right;\">\n",
       "      <th></th>\n",
       "      <th>R&amp;D Spend</th>\n",
       "      <th>Administration</th>\n",
       "      <th>Marketing Spend</th>\n",
       "      <th>Profit</th>\n",
       "    </tr>\n",
       "  </thead>\n",
       "  <tbody>\n",
       "    <tr>\n",
       "      <th>count</th>\n",
       "      <td>50.000000</td>\n",
       "      <td>50.000000</td>\n",
       "      <td>50.000000</td>\n",
       "      <td>50.000000</td>\n",
       "    </tr>\n",
       "    <tr>\n",
       "      <th>mean</th>\n",
       "      <td>73721.615600</td>\n",
       "      <td>121344.639600</td>\n",
       "      <td>211025.097800</td>\n",
       "      <td>112012.639200</td>\n",
       "    </tr>\n",
       "    <tr>\n",
       "      <th>std</th>\n",
       "      <td>45902.256482</td>\n",
       "      <td>28017.802755</td>\n",
       "      <td>122290.310726</td>\n",
       "      <td>40306.180338</td>\n",
       "    </tr>\n",
       "    <tr>\n",
       "      <th>min</th>\n",
       "      <td>0.000000</td>\n",
       "      <td>51283.140000</td>\n",
       "      <td>0.000000</td>\n",
       "      <td>14681.400000</td>\n",
       "    </tr>\n",
       "    <tr>\n",
       "      <th>25%</th>\n",
       "      <td>39936.370000</td>\n",
       "      <td>103730.875000</td>\n",
       "      <td>129300.132500</td>\n",
       "      <td>90138.902500</td>\n",
       "    </tr>\n",
       "    <tr>\n",
       "      <th>50%</th>\n",
       "      <td>73051.080000</td>\n",
       "      <td>122699.795000</td>\n",
       "      <td>212716.240000</td>\n",
       "      <td>107978.190000</td>\n",
       "    </tr>\n",
       "    <tr>\n",
       "      <th>75%</th>\n",
       "      <td>101602.800000</td>\n",
       "      <td>144842.180000</td>\n",
       "      <td>299469.085000</td>\n",
       "      <td>139765.977500</td>\n",
       "    </tr>\n",
       "    <tr>\n",
       "      <th>max</th>\n",
       "      <td>165349.200000</td>\n",
       "      <td>182645.560000</td>\n",
       "      <td>471784.100000</td>\n",
       "      <td>192261.830000</td>\n",
       "    </tr>\n",
       "  </tbody>\n",
       "</table>\n",
       "</div>"
      ],
      "text/plain": [
       "           R&D Spend  Administration  Marketing Spend         Profit\n",
       "count      50.000000       50.000000        50.000000      50.000000\n",
       "mean    73721.615600   121344.639600    211025.097800  112012.639200\n",
       "std     45902.256482    28017.802755    122290.310726   40306.180338\n",
       "min         0.000000    51283.140000         0.000000   14681.400000\n",
       "25%     39936.370000   103730.875000    129300.132500   90138.902500\n",
       "50%     73051.080000   122699.795000    212716.240000  107978.190000\n",
       "75%    101602.800000   144842.180000    299469.085000  139765.977500\n",
       "max    165349.200000   182645.560000    471784.100000  192261.830000"
      ]
     },
     "execution_count": 8,
     "metadata": {},
     "output_type": "execute_result"
    }
   ],
   "source": [
    "df.describe()"
   ]
  },
  {
   "cell_type": "code",
   "execution_count": 4,
   "metadata": {},
   "outputs": [
    {
     "data": {
      "text/html": [
       "<div>\n",
       "<style scoped>\n",
       "    .dataframe tbody tr th:only-of-type {\n",
       "        vertical-align: middle;\n",
       "    }\n",
       "\n",
       "    .dataframe tbody tr th {\n",
       "        vertical-align: top;\n",
       "    }\n",
       "\n",
       "    .dataframe thead th {\n",
       "        text-align: right;\n",
       "    }\n",
       "</style>\n",
       "<table border=\"1\" class=\"dataframe\">\n",
       "  <thead>\n",
       "    <tr style=\"text-align: right;\">\n",
       "      <th></th>\n",
       "      <th>R&amp;D Spend</th>\n",
       "      <th>Administration</th>\n",
       "      <th>Marketing Spend</th>\n",
       "      <th>Profit</th>\n",
       "    </tr>\n",
       "  </thead>\n",
       "  <tbody>\n",
       "    <tr>\n",
       "      <th>R&amp;D Spend</th>\n",
       "      <td>1.000000</td>\n",
       "      <td>0.241955</td>\n",
       "      <td>0.724248</td>\n",
       "      <td>0.972900</td>\n",
       "    </tr>\n",
       "    <tr>\n",
       "      <th>Administration</th>\n",
       "      <td>0.241955</td>\n",
       "      <td>1.000000</td>\n",
       "      <td>-0.032154</td>\n",
       "      <td>0.200717</td>\n",
       "    </tr>\n",
       "    <tr>\n",
       "      <th>Marketing Spend</th>\n",
       "      <td>0.724248</td>\n",
       "      <td>-0.032154</td>\n",
       "      <td>1.000000</td>\n",
       "      <td>0.747766</td>\n",
       "    </tr>\n",
       "    <tr>\n",
       "      <th>Profit</th>\n",
       "      <td>0.972900</td>\n",
       "      <td>0.200717</td>\n",
       "      <td>0.747766</td>\n",
       "      <td>1.000000</td>\n",
       "    </tr>\n",
       "  </tbody>\n",
       "</table>\n",
       "</div>"
      ],
      "text/plain": [
       "                 R&D Spend  Administration  Marketing Spend    Profit\n",
       "R&D Spend         1.000000        0.241955         0.724248  0.972900\n",
       "Administration    0.241955        1.000000        -0.032154  0.200717\n",
       "Marketing Spend   0.724248       -0.032154         1.000000  0.747766\n",
       "Profit            0.972900        0.200717         0.747766  1.000000"
      ]
     },
     "execution_count": 4,
     "metadata": {},
     "output_type": "execute_result"
    }
   ],
   "source": [
    "#explore EDA\n",
    "#coorelation\n",
    "df.corr()"
   ]
  },
  {
   "cell_type": "code",
   "execution_count": 16,
   "metadata": {},
   "outputs": [
    {
     "data": {
      "image/png": "[encoded data removed]",
      "text/plain": [
       "<Figure size 432x288 with 1 Axes>"
      ]
     },
     "metadata": {
      "needs_background": "light"
     },
     "output_type": "display_data"
    }
   ],
   "source": [
    "plt.scatter(df['R&D Spend'],df['Profit'])\n",
    "plt.show()"
   ]
  },
  {
   "cell_type": "code",
   "execution_count": 18,
   "metadata": {},
   "outputs": [
    {
     "data": {
      "image/png": "[encoded data removed]",
      "text/plain": [
       "<Figure size 432x288 with 1 Axes>"
      ]
     },
     "metadata": {
      "needs_background": "light"
     },
     "output_type": "display_data"
    }
   ],
   "source": [
    "plt.scatter(df['Administration'],df['Profit'])\n",
    "plt.show()"
   ]
  },
  {
   "cell_type": "code",
   "execution_count": 20,
   "metadata": {},
   "outputs": [
    {
     "data": {
      "image/png": "[encoded data removed]",
      "text/plain": [
       "<Figure size 432x288 with 1 Axes>"
      ]
     },
     "metadata": {
      "needs_background": "light"
     },
     "output_type": "display_data"
    }
   ],
   "source": [
    "plt.scatter(df['Marketing Spend'],df['Profit'])\n",
    "plt.show()"
   ]
  },
  {
   "cell_type": "code",
   "execution_count": 6,
   "metadata": {},
   "outputs": [
    {
     "data": {
      "text/plain": [
       "R&D Spend          0\n",
       "Administration     0\n",
       "Marketing Spend    0\n",
       "State              0\n",
       "Profit             0\n",
       "dtype: int64"
      ]
     },
     "execution_count": 6,
     "metadata": {},
     "output_type": "execute_result"
    }
   ],
   "source": [
    "df.isnull().sum()\n",
    "#as there are no missing data we need not to handle it"
   ]
  },
  {
   "cell_type": "code",
   "execution_count": 8,
   "metadata": {},
   "outputs": [],
   "source": [
    "df.drop('Administration',axis=1,inplace=True)"
   ]
  },
  {
   "cell_type": "code",
   "execution_count": 9,
   "metadata": {},
   "outputs": [
    {
     "data": {
      "text/html": [
       "<div>\n",
       "<style scoped>\n",
       "    .dataframe tbody tr th:only-of-type {\n",
       "        vertical-align: middle;\n",
       "    }\n",
       "\n",
       "    .dataframe tbody tr th {\n",
       "        vertical-align: top;\n",
       "    }\n",
       "\n",
       "    .dataframe thead th {\n",
       "        text-align: right;\n",
       "    }\n",
       "</style>\n",
       "<table border=\"1\" class=\"dataframe\">\n",
       "  <thead>\n",
       "    <tr style=\"text-align: right;\">\n",
       "      <th></th>\n",
       "      <th>R&amp;D Spend</th>\n",
       "      <th>Marketing Spend</th>\n",
       "      <th>State</th>\n",
       "      <th>Profit</th>\n",
       "    </tr>\n",
       "  </thead>\n",
       "  <tbody>\n",
       "    <tr>\n",
       "      <th>0</th>\n",
       "      <td>165349.20</td>\n",
       "      <td>471784.10</td>\n",
       "      <td>New York</td>\n",
       "      <td>192261.83</td>\n",
       "    </tr>\n",
       "    <tr>\n",
       "      <th>1</th>\n",
       "      <td>162597.70</td>\n",
       "      <td>443898.53</td>\n",
       "      <td>California</td>\n",
       "      <td>191792.06</td>\n",
       "    </tr>\n",
       "    <tr>\n",
       "      <th>2</th>\n",
       "      <td>153441.51</td>\n",
       "      <td>407934.54</td>\n",
       "      <td>Florida</td>\n",
       "      <td>191050.39</td>\n",
       "    </tr>\n",
       "    <tr>\n",
       "      <th>3</th>\n",
       "      <td>144372.41</td>\n",
       "      <td>383199.62</td>\n",
       "      <td>New York</td>\n",
       "      <td>182901.99</td>\n",
       "    </tr>\n",
       "    <tr>\n",
       "      <th>4</th>\n",
       "      <td>142107.34</td>\n",
       "      <td>366168.42</td>\n",
       "      <td>Florida</td>\n",
       "      <td>166187.94</td>\n",
       "    </tr>\n",
       "    <tr>\n",
       "      <th>5</th>\n",
       "      <td>131876.90</td>\n",
       "      <td>362861.36</td>\n",
       "      <td>New York</td>\n",
       "      <td>156991.12</td>\n",
       "    </tr>\n",
       "    <tr>\n",
       "      <th>6</th>\n",
       "      <td>134615.46</td>\n",
       "      <td>127716.82</td>\n",
       "      <td>California</td>\n",
       "      <td>156122.51</td>\n",
       "    </tr>\n",
       "    <tr>\n",
       "      <th>7</th>\n",
       "      <td>130298.13</td>\n",
       "      <td>323876.68</td>\n",
       "      <td>Florida</td>\n",
       "      <td>155752.60</td>\n",
       "    </tr>\n",
       "    <tr>\n",
       "      <th>8</th>\n",
       "      <td>120542.52</td>\n",
       "      <td>311613.29</td>\n",
       "      <td>New York</td>\n",
       "      <td>152211.77</td>\n",
       "    </tr>\n",
       "    <tr>\n",
       "      <th>9</th>\n",
       "      <td>123334.88</td>\n",
       "      <td>304981.62</td>\n",
       "      <td>California</td>\n",
       "      <td>149759.96</td>\n",
       "    </tr>\n",
       "    <tr>\n",
       "      <th>10</th>\n",
       "      <td>101913.08</td>\n",
       "      <td>229160.95</td>\n",
       "      <td>Florida</td>\n",
       "      <td>146121.95</td>\n",
       "    </tr>\n",
       "    <tr>\n",
       "      <th>11</th>\n",
       "      <td>100671.96</td>\n",
       "      <td>249744.55</td>\n",
       "      <td>California</td>\n",
       "      <td>144259.40</td>\n",
       "    </tr>\n",
       "    <tr>\n",
       "      <th>12</th>\n",
       "      <td>93863.75</td>\n",
       "      <td>249839.44</td>\n",
       "      <td>Florida</td>\n",
       "      <td>141585.52</td>\n",
       "    </tr>\n",
       "    <tr>\n",
       "      <th>13</th>\n",
       "      <td>91992.39</td>\n",
       "      <td>252664.93</td>\n",
       "      <td>California</td>\n",
       "      <td>134307.35</td>\n",
       "    </tr>\n",
       "    <tr>\n",
       "      <th>14</th>\n",
       "      <td>119943.24</td>\n",
       "      <td>256512.92</td>\n",
       "      <td>Florida</td>\n",
       "      <td>132602.65</td>\n",
       "    </tr>\n",
       "    <tr>\n",
       "      <th>15</th>\n",
       "      <td>114523.61</td>\n",
       "      <td>261776.23</td>\n",
       "      <td>New York</td>\n",
       "      <td>129917.04</td>\n",
       "    </tr>\n",
       "    <tr>\n",
       "      <th>16</th>\n",
       "      <td>78013.11</td>\n",
       "      <td>264346.06</td>\n",
       "      <td>California</td>\n",
       "      <td>126992.93</td>\n",
       "    </tr>\n",
       "    <tr>\n",
       "      <th>17</th>\n",
       "      <td>94657.16</td>\n",
       "      <td>282574.31</td>\n",
       "      <td>New York</td>\n",
       "      <td>125370.37</td>\n",
       "    </tr>\n",
       "    <tr>\n",
       "      <th>18</th>\n",
       "      <td>91749.16</td>\n",
       "      <td>294919.57</td>\n",
       "      <td>Florida</td>\n",
       "      <td>124266.90</td>\n",
       "    </tr>\n",
       "    <tr>\n",
       "      <th>19</th>\n",
       "      <td>86419.70</td>\n",
       "      <td>0.00</td>\n",
       "      <td>New York</td>\n",
       "      <td>122776.86</td>\n",
       "    </tr>\n",
       "    <tr>\n",
       "      <th>20</th>\n",
       "      <td>76253.86</td>\n",
       "      <td>298664.47</td>\n",
       "      <td>California</td>\n",
       "      <td>118474.03</td>\n",
       "    </tr>\n",
       "    <tr>\n",
       "      <th>21</th>\n",
       "      <td>78389.47</td>\n",
       "      <td>299737.29</td>\n",
       "      <td>New York</td>\n",
       "      <td>111313.02</td>\n",
       "    </tr>\n",
       "    <tr>\n",
       "      <th>22</th>\n",
       "      <td>73994.56</td>\n",
       "      <td>303319.26</td>\n",
       "      <td>Florida</td>\n",
       "      <td>110352.25</td>\n",
       "    </tr>\n",
       "    <tr>\n",
       "      <th>23</th>\n",
       "      <td>67532.53</td>\n",
       "      <td>304768.73</td>\n",
       "      <td>Florida</td>\n",
       "      <td>108733.99</td>\n",
       "    </tr>\n",
       "    <tr>\n",
       "      <th>24</th>\n",
       "      <td>77044.01</td>\n",
       "      <td>140574.81</td>\n",
       "      <td>New York</td>\n",
       "      <td>108552.04</td>\n",
       "    </tr>\n",
       "    <tr>\n",
       "      <th>25</th>\n",
       "      <td>64664.71</td>\n",
       "      <td>137962.62</td>\n",
       "      <td>California</td>\n",
       "      <td>107404.34</td>\n",
       "    </tr>\n",
       "    <tr>\n",
       "      <th>26</th>\n",
       "      <td>75328.87</td>\n",
       "      <td>134050.07</td>\n",
       "      <td>Florida</td>\n",
       "      <td>105733.54</td>\n",
       "    </tr>\n",
       "    <tr>\n",
       "      <th>27</th>\n",
       "      <td>72107.60</td>\n",
       "      <td>353183.81</td>\n",
       "      <td>New York</td>\n",
       "      <td>105008.31</td>\n",
       "    </tr>\n",
       "    <tr>\n",
       "      <th>28</th>\n",
       "      <td>66051.52</td>\n",
       "      <td>118148.20</td>\n",
       "      <td>Florida</td>\n",
       "      <td>103282.38</td>\n",
       "    </tr>\n",
       "    <tr>\n",
       "      <th>29</th>\n",
       "      <td>65605.48</td>\n",
       "      <td>107138.38</td>\n",
       "      <td>New York</td>\n",
       "      <td>101004.64</td>\n",
       "    </tr>\n",
       "    <tr>\n",
       "      <th>30</th>\n",
       "      <td>61994.48</td>\n",
       "      <td>91131.24</td>\n",
       "      <td>Florida</td>\n",
       "      <td>99937.59</td>\n",
       "    </tr>\n",
       "    <tr>\n",
       "      <th>31</th>\n",
       "      <td>61136.38</td>\n",
       "      <td>88218.23</td>\n",
       "      <td>New York</td>\n",
       "      <td>97483.56</td>\n",
       "    </tr>\n",
       "    <tr>\n",
       "      <th>32</th>\n",
       "      <td>63408.86</td>\n",
       "      <td>46085.25</td>\n",
       "      <td>California</td>\n",
       "      <td>97427.84</td>\n",
       "    </tr>\n",
       "    <tr>\n",
       "      <th>33</th>\n",
       "      <td>55493.95</td>\n",
       "      <td>214634.81</td>\n",
       "      <td>Florida</td>\n",
       "      <td>96778.92</td>\n",
       "    </tr>\n",
       "    <tr>\n",
       "      <th>34</th>\n",
       "      <td>46426.07</td>\n",
       "      <td>210797.67</td>\n",
       "      <td>California</td>\n",
       "      <td>96712.80</td>\n",
       "    </tr>\n",
       "    <tr>\n",
       "      <th>35</th>\n",
       "      <td>46014.02</td>\n",
       "      <td>205517.64</td>\n",
       "      <td>New York</td>\n",
       "      <td>96479.51</td>\n",
       "    </tr>\n",
       "    <tr>\n",
       "      <th>36</th>\n",
       "      <td>28663.76</td>\n",
       "      <td>201126.82</td>\n",
       "      <td>Florida</td>\n",
       "      <td>90708.19</td>\n",
       "    </tr>\n",
       "    <tr>\n",
       "      <th>37</th>\n",
       "      <td>44069.95</td>\n",
       "      <td>197029.42</td>\n",
       "      <td>California</td>\n",
       "      <td>89949.14</td>\n",
       "    </tr>\n",
       "    <tr>\n",
       "      <th>38</th>\n",
       "      <td>20229.59</td>\n",
       "      <td>185265.10</td>\n",
       "      <td>New York</td>\n",
       "      <td>81229.06</td>\n",
       "    </tr>\n",
       "    <tr>\n",
       "      <th>39</th>\n",
       "      <td>38558.51</td>\n",
       "      <td>174999.30</td>\n",
       "      <td>California</td>\n",
       "      <td>81005.76</td>\n",
       "    </tr>\n",
       "    <tr>\n",
       "      <th>40</th>\n",
       "      <td>28754.33</td>\n",
       "      <td>172795.67</td>\n",
       "      <td>California</td>\n",
       "      <td>78239.91</td>\n",
       "    </tr>\n",
       "    <tr>\n",
       "      <th>41</th>\n",
       "      <td>27892.92</td>\n",
       "      <td>164470.71</td>\n",
       "      <td>Florida</td>\n",
       "      <td>77798.83</td>\n",
       "    </tr>\n",
       "    <tr>\n",
       "      <th>42</th>\n",
       "      <td>23640.93</td>\n",
       "      <td>148001.11</td>\n",
       "      <td>California</td>\n",
       "      <td>71498.49</td>\n",
       "    </tr>\n",
       "    <tr>\n",
       "      <th>43</th>\n",
       "      <td>15505.73</td>\n",
       "      <td>35534.17</td>\n",
       "      <td>New York</td>\n",
       "      <td>69758.98</td>\n",
       "    </tr>\n",
       "    <tr>\n",
       "      <th>44</th>\n",
       "      <td>22177.74</td>\n",
       "      <td>28334.72</td>\n",
       "      <td>California</td>\n",
       "      <td>65200.33</td>\n",
       "    </tr>\n",
       "    <tr>\n",
       "      <th>45</th>\n",
       "      <td>1000.23</td>\n",
       "      <td>1903.93</td>\n",
       "      <td>New York</td>\n",
       "      <td>64926.08</td>\n",
       "    </tr>\n",
       "    <tr>\n",
       "      <th>46</th>\n",
       "      <td>1315.46</td>\n",
       "      <td>297114.46</td>\n",
       "      <td>Florida</td>\n",
       "      <td>49490.75</td>\n",
       "    </tr>\n",
       "    <tr>\n",
       "      <th>47</th>\n",
       "      <td>0.00</td>\n",
       "      <td>0.00</td>\n",
       "      <td>California</td>\n",
       "      <td>42559.73</td>\n",
       "    </tr>\n",
       "    <tr>\n",
       "      <th>48</th>\n",
       "      <td>542.05</td>\n",
       "      <td>0.00</td>\n",
       "      <td>New York</td>\n",
       "      <td>35673.41</td>\n",
       "    </tr>\n",
       "    <tr>\n",
       "      <th>49</th>\n",
       "      <td>0.00</td>\n",
       "      <td>45173.06</td>\n",
       "      <td>California</td>\n",
       "      <td>14681.40</td>\n",
       "    </tr>\n",
       "  </tbody>\n",
       "</table>\n",
       "</div>"
      ],
      "text/plain": [
       "    R&D Spend  Marketing Spend       State     Profit\n",
       "0   165349.20        471784.10    New York  192261.83\n",
       "1   162597.70        443898.53  California  191792.06\n",
       "2   153441.51        407934.54     Florida  191050.39\n",
       "3   144372.41        383199.62    New York  182901.99\n",
       "4   142107.34        366168.42     Florida  166187.94\n",
       "5   131876.90        362861.36    New York  156991.12\n",
       "6   134615.46        127716.82  California  156122.51\n",
       "7   130298.13        323876.68     Florida  155752.60\n",
       "8   120542.52        311613.29    New York  152211.77\n",
       "9   123334.88        304981.62  California  149759.96\n",
       "10  101913.08        229160.95     Florida  146121.95\n",
       "11  100671.96        249744.55  California  144259.40\n",
       "12   93863.75        249839.44     Florida  141585.52\n",
       "13   91992.39        252664.93  California  134307.35\n",
       "14  119943.24        256512.92     Florida  132602.65\n",
       "15  114523.61        261776.23    New York  129917.04\n",
       "16   78013.11        264346.06  California  126992.93\n",
       "17   94657.16        282574.31    New York  125370.37\n",
       "18   91749.16        294919.57     Florida  124266.90\n",
       "19   86419.70             0.00    New York  122776.86\n",
       "20   76253.86        298664.47  California  118474.03\n",
       "21   78389.47        299737.29    New York  111313.02\n",
       "22   73994.56        303319.26     Florida  110352.25\n",
       "23   67532.53        304768.73     Florida  108733.99\n",
       "24   77044.01        140574.81    New York  108552.04\n",
       "25   64664.71        137962.62  California  107404.34\n",
       "26   75328.87        134050.07     Florida  105733.54\n",
       "27   72107.60        353183.81    New York  105008.31\n",
       "28   66051.52        118148.20     Florida  103282.38\n",
       "29   65605.48        107138.38    New York  101004.64\n",
       "30   61994.48         91131.24     Florida   99937.59\n",
       "31   61136.38         88218.23    New York   97483.56\n",
       "32   63408.86         46085.25  California   97427.84\n",
       "33   55493.95        214634.81     Florida   96778.92\n",
       "34   46426.07        210797.67  California   96712.80\n",
       "35   46014.02        205517.64    New York   96479.51\n",
       "36   28663.76        201126.82     Florida   90708.19\n",
       "37   44069.95        197029.42  California   89949.14\n",
       "38   20229.59        185265.10    New York   81229.06\n",
       "39   38558.51        174999.30  California   81005.76\n",
       "40   28754.33        172795.67  California   78239.91\n",
       "41   27892.92        164470.71     Florida   77798.83\n",
       "42   23640.93        148001.11  California   71498.49\n",
       "43   15505.73         35534.17    New York   69758.98\n",
       "44   22177.74         28334.72  California   65200.33\n",
       "45    1000.23          1903.93    New York   64926.08\n",
       "46    1315.46        297114.46     Florida   49490.75\n",
       "47       0.00             0.00  California   42559.73\n",
       "48     542.05             0.00    New York   35673.41\n",
       "49       0.00         45173.06  California   14681.40"
      ]
     },
     "execution_count": 9,
     "metadata": {},
     "output_type": "execute_result"
    }
   ],
   "source": [
    "df"
   ]
  },
  {
   "cell_type": "code",
   "execution_count": 10,
   "metadata": {},
   "outputs": [],
   "source": [
    "X = df.iloc[:,:-1].values\n",
    "Y = df.iloc[:,-1].values"
   ]
  },
  {
   "cell_type": "code",
   "execution_count": 11,
   "metadata": {},
   "outputs": [
    {
     "data": {
      "text/plain": [
       "array([[165349.2, 471784.1, 'New York'],\n",
       "       [162597.7, 443898.53, 'California'],\n",
       "       [153441.51, 407934.54, 'Florida'],\n",
       "       [144372.41, 383199.62, 'New York'],\n",
       "       [142107.34, 366168.42, 'Florida'],\n",
       "       [131876.9, 362861.36, 'New York'],\n",
       "       [134615.46, 127716.82, 'California'],\n",
       "       [130298.13, 323876.68, 'Florida'],\n",
       "       [120542.52, 311613.29, 'New York'],\n",
       "       [123334.88, 304981.62, 'California'],\n",
       "       [101913.08, 229160.95, 'Florida'],\n",
       "       [100671.96, 249744.55, 'California'],\n",
       "       [93863.75, 249839.44, 'Florida'],\n",
       "       [91992.39, 252664.93, 'California'],\n",
       "       [119943.24, 256512.92, 'Florida'],\n",
       "       [114523.61, 261776.23, 'New York'],\n",
       "       [78013.11, 264346.06, 'California'],\n",
       "       [94657.16, 282574.31, 'New York'],\n",
       "       [91749.16, 294919.57, 'Florida'],\n",
       "       [86419.7, 0.0, 'New York'],\n",
       "       [76253.86, 298664.47, 'California'],\n",
       "       [78389.47, 299737.29, 'New York'],\n",
       "       [73994.56, 303319.26, 'Florida'],\n",
       "       [67532.53, 304768.73, 'Florida'],\n",
       "       [77044.01, 140574.81, 'New York'],\n",
       "       [64664.71, 137962.62, 'California'],\n",
       "       [75328.87, 134050.07, 'Florida'],\n",
       "       [72107.6, 353183.81, 'New York'],\n",
       "       [66051.52, 118148.2, 'Florida'],\n",
       "       [65605.48, 107138.38, 'New York'],\n",
       "       [61994.48, 91131.24, 'Florida'],\n",
       "       [61136.38, 88218.23, 'New York'],\n",
       "       [63408.86, 46085.25, 'California'],\n",
       "       [55493.95, 214634.81, 'Florida'],\n",
       "       [46426.07, 210797.67, 'California'],\n",
       "       [46014.02, 205517.64, 'New York'],\n",
       "       [28663.76, 201126.82, 'Florida'],\n",
       "       [44069.95, 197029.42, 'California'],\n",
       "       [20229.59, 185265.1, 'New York'],\n",
       "       [38558.51, 174999.3, 'California'],\n",
       "       [28754.33, 172795.67, 'California'],\n",
       "       [27892.92, 164470.71, 'Florida'],\n",
       "       [23640.93, 148001.11, 'California'],\n",
       "       [15505.73, 35534.17, 'New York'],\n",
       "       [22177.74, 28334.72, 'California'],\n",
       "       [1000.23, 1903.93, 'New York'],\n",
       "       [1315.46, 297114.46, 'Florida'],\n",
       "       [0.0, 0.0, 'California'],\n",
       "       [542.05, 0.0, 'New York'],\n",
       "       [0.0, 45173.06, 'California']], dtype=object)"
      ]
     },
     "execution_count": 11,
     "metadata": {},
     "output_type": "execute_result"
    }
   ],
   "source": [
    "X"
   ]
  },
  {
   "cell_type": "code",
   "execution_count": 12,
   "metadata": {},
   "outputs": [],
   "source": [
    "from sklearn.preprocessing import OneHotEncoder\n",
    "from sklearn.compose import ColumnTransformer\n",
    "ct = ColumnTransformer(transformers=[('encoder',OneHotEncoder(),[-1])],remainder='passthrough')\n",
    "X = ct.fit_transform(X)"
   ]
  },
  {
   "cell_type": "code",
   "execution_count": 13,
   "metadata": {},
   "outputs": [],
   "source": [
    "#not to fall into dummy trap variable\n",
    "#drop first dummy column\n",
    "X = X[:,1:]"
   ]
  },
  {
   "cell_type": "code",
   "execution_count": 14,
   "metadata": {},
   "outputs": [],
   "source": [
    "#feature scaling\n",
    "from sklearn.preprocessing import StandardScaler\n",
    "sc = StandardScaler()\n",
    "X = sc.fit_transform(X)"
   ]
  },
  {
   "cell_type": "code",
   "execution_count": 15,
   "metadata": {},
   "outputs": [
    {
     "data": {
      "text/plain": [
       "array([[-6.85994341e-01,  1.39326109e+00,  2.01641149e+00,\n",
       "         2.15394309e+00],\n",
       "       [-6.85994341e-01, -7.17740563e-01,  1.95586034e+00,\n",
       "         1.92360040e+00],\n",
       "       [ 1.45773797e+00, -7.17740563e-01,  1.75436374e+00,\n",
       "         1.62652767e+00],\n",
       "       [-6.85994341e-01,  1.39326109e+00,  1.55478369e+00,\n",
       "         1.42221024e+00],\n",
       "       [ 1.45773797e+00, -7.17740563e-01,  1.50493720e+00,\n",
       "         1.28152771e+00],\n",
       "       [-6.85994341e-01,  1.39326109e+00,  1.27980001e+00,\n",
       "         1.25421046e+00],\n",
       "       [-6.85994341e-01, -7.17740563e-01,  1.34006641e+00,\n",
       "        -6.88149930e-01],\n",
       "       [ 1.45773797e+00, -7.17740563e-01,  1.24505666e+00,\n",
       "         9.32185978e-01],\n",
       "       [-6.85994341e-01,  1.39326109e+00,  1.03036886e+00,\n",
       "         8.30886909e-01],\n",
       "       [-6.85994341e-01, -7.17740563e-01,  1.09181921e+00,\n",
       "         7.76107440e-01],\n",
       "       [ 1.45773797e+00, -7.17740563e-01,  6.20398248e-01,\n",
       "         1.49807267e-01],\n",
       "       [-6.85994341e-01, -7.17740563e-01,  5.93085418e-01,\n",
       "         3.19833623e-01],\n",
       "       [ 1.45773797e+00, -7.17740563e-01,  4.43259872e-01,\n",
       "         3.20617441e-01],\n",
       "       [-6.85994341e-01, -7.17740563e-01,  4.02077603e-01,\n",
       "         3.43956788e-01],\n",
       "       [ 1.45773797e+00, -7.17740563e-01,  1.01718075e+00,\n",
       "         3.75742273e-01],\n",
       "       [-6.85994341e-01,  1.39326109e+00,  8.97913123e-01,\n",
       "         4.19218702e-01],\n",
       "       [-6.85994341e-01, -7.17740563e-01,  9.44411957e-02,\n",
       "         4.40446224e-01],\n",
       "       [-6.85994341e-01,  1.39326109e+00,  4.60720127e-01,\n",
       "         5.91016724e-01],\n",
       "       [ 1.45773797e+00, -7.17740563e-01,  3.96724938e-01,\n",
       "         6.92992062e-01],\n",
       "       [-6.85994341e-01,  1.39326109e+00,  2.79441650e-01,\n",
       "        -1.74312698e+00],\n",
       "       [-6.85994341e-01, -7.17740563e-01,  5.57260867e-02,\n",
       "         7.23925995e-01],\n",
       "       [-6.85994341e-01,  1.39326109e+00,  1.02723599e-01,\n",
       "         7.32787791e-01],\n",
       "       [ 1.45773797e+00, -7.17740563e-01,  6.00657792e-03,\n",
       "         7.62375876e-01],\n",
       "       [ 1.45773797e+00, -7.17740563e-01, -1.36200724e-01,\n",
       "         7.74348908e-01],\n",
       "       [-6.85994341e-01,  1.39326109e+00,  7.31146008e-02,\n",
       "        -5.81939297e-01],\n",
       "       [-6.85994341e-01, -7.17740563e-01, -1.99311688e-01,\n",
       "        -6.03516725e-01],\n",
       "       [ 1.45773797e+00, -7.17740563e-01,  3.53702028e-02,\n",
       "        -6.35835495e-01],\n",
       "       [-6.85994341e-01,  1.39326109e+00, -3.55189938e-02,\n",
       "         1.17427116e+00],\n",
       "       [ 1.45773797e+00, -7.17740563e-01, -1.68792717e-01,\n",
       "        -7.67189437e-01],\n",
       "       [-6.85994341e-01,  1.39326109e+00, -1.78608540e-01,\n",
       "        -8.58133663e-01],\n",
       "       [ 1.45773797e+00, -7.17740563e-01, -2.58074369e-01,\n",
       "        -9.90357166e-01],\n",
       "       [-6.85994341e-01,  1.39326109e+00, -2.76958231e-01,\n",
       "        -1.01441945e+00],\n",
       "       [-6.85994341e-01, -7.17740563e-01, -2.26948675e-01,\n",
       "        -1.36244978e+00],\n",
       "       [ 1.45773797e+00, -7.17740563e-01, -4.01128925e-01,\n",
       "         2.98172434e-02],\n",
       "       [-6.85994341e-01, -7.17740563e-01, -6.00682122e-01,\n",
       "        -1.87861793e-03],\n",
       "       [-6.85994341e-01,  1.39326109e+00, -6.09749941e-01,\n",
       "        -4.54931587e-02],\n",
       "       [ 1.45773797e+00, -7.17740563e-01, -9.91570153e-01,\n",
       "        -8.17625734e-02],\n",
       "       [-6.85994341e-01, -7.17740563e-01, -6.52532310e-01,\n",
       "        -1.15608256e-01],\n",
       "       [-6.85994341e-01,  1.39326109e+00, -1.17717755e+00,\n",
       "        -2.12784866e-01],\n",
       "       [-6.85994341e-01, -7.17740563e-01, -7.73820359e-01,\n",
       "        -2.97583276e-01],\n",
       "       [-6.85994341e-01, -7.17740563e-01, -9.89577015e-01,\n",
       "        -3.15785883e-01],\n",
       "       [ 1.45773797e+00, -7.17740563e-01, -1.00853372e+00,\n",
       "        -3.84552407e-01],\n",
       "       [-6.85994341e-01, -7.17740563e-01, -1.10210556e+00,\n",
       "        -5.20595959e-01],\n",
       "       [-6.85994341e-01,  1.39326109e+00, -1.28113364e+00,\n",
       "        -1.44960468e+00],\n",
       "       [-6.85994341e-01, -7.17740563e-01, -1.13430539e+00,\n",
       "        -1.50907418e+00],\n",
       "       [-6.85994341e-01,  1.39326109e+00, -1.60035036e+00,\n",
       "        -1.72739998e+00],\n",
       "       [ 1.45773797e+00, -7.17740563e-01, -1.59341322e+00,\n",
       "         7.11122474e-01],\n",
       "       [-6.85994341e-01, -7.17740563e-01, -1.62236202e+00,\n",
       "        -1.74312698e+00],\n",
       "       [-6.85994341e-01,  1.39326109e+00, -1.61043334e+00,\n",
       "        -1.74312698e+00],\n",
       "       [-6.85994341e-01, -7.17740563e-01, -1.62236202e+00,\n",
       "        -1.36998473e+00]])"
      ]
     },
     "execution_count": 15,
     "metadata": {},
     "output_type": "execute_result"
    }
   ],
   "source": [
    "X"
   ]
  },
  {
   "cell_type": "code",
   "execution_count": 16,
   "metadata": {},
   "outputs": [],
   "source": [
    "#split into training and testing\n",
    "from sklearn.model_selection import train_test_split\n",
    "X_train,X_test,Y_train,Y_test = train_test_split(X,Y,test_size=0.3)"
   ]
  },
  {
   "cell_type": "code",
   "execution_count": 17,
   "metadata": {},
   "outputs": [
    {
     "name": "stdout",
     "output_type": "stream",
     "text": [
      "(35, 4)\n",
      "(15, 4)\n",
      "(35,)\n",
      "(15,)\n"
     ]
    }
   ],
   "source": [
    "print(X_train.shape)\n",
    "print(X_test.shape)\n",
    "print(Y_train.shape)\n",
    "print(Y_test.shape)"
   ]
  },
  {
   "cell_type": "code",
   "execution_count": 18,
   "metadata": {},
   "outputs": [
    {
     "data": {
      "text/plain": [
       "LinearRegression(copy_X=True, fit_intercept=True, n_jobs=None, normalize=False)"
      ]
     },
     "execution_count": 18,
     "metadata": {},
     "output_type": "execute_result"
    }
   ],
   "source": [
    "#linear regression\n",
    "from sklearn.linear_model import LinearRegression\n",
    "lr = LinearRegression()\n",
    "lr.fit(X_train,Y_train)"
   ]
  },
  {
   "cell_type": "code",
   "execution_count": 19,
   "metadata": {},
   "outputs": [
    {
     "data": {
      "text/plain": [
       "array([162891.42030494,  98511.47342987, 115549.86360427,  68150.3550959 ,\n",
       "       130430.54947801,  46599.15492365,  47018.8892083 , 101953.48647677,\n",
       "       159224.8955677 ,  99308.73307371, 101761.87405704, 153381.07095142,\n",
       "       173643.76520489, 163402.28573148, 189255.66785567])"
      ]
     },
     "execution_count": 19,
     "metadata": {},
     "output_type": "execute_result"
    }
   ],
   "source": [
    "Y_pred = lr.predict(X_test)\n",
    "Y_pred"
   ]
  },
  {
   "cell_type": "code",
   "execution_count": 20,
   "metadata": {},
   "outputs": [
    {
     "data": {
      "text/plain": [
       "array([156991.12,  97483.56, 126992.93,  71498.49, 125370.37,  35673.41,\n",
       "        64926.08,  99937.59, 156122.51,  96778.92, 107404.34, 132602.65,\n",
       "       182901.99, 155752.6 , 191792.06])"
      ]
     },
     "execution_count": 20,
     "metadata": {},
     "output_type": "execute_result"
    }
   ],
   "source": [
    "Y_test"
   ]
  },
  {
   "cell_type": "code",
   "execution_count": 21,
   "metadata": {},
   "outputs": [
    {
     "data": {
      "text/plain": [
       "0.9449350999433396"
      ]
     },
     "execution_count": 21,
     "metadata": {},
     "output_type": "execute_result"
    }
   ],
   "source": [
    "lr.score(X_train,Y_train)"
   ]
  },
  {
   "cell_type": "code",
   "execution_count": 22,
   "metadata": {},
   "outputs": [
    {
     "data": {
      "text/plain": [
       "0.9533614471225289"
      ]
     },
     "execution_count": 22,
     "metadata": {},
     "output_type": "execute_result"
    }
   ],
   "source": [
    "lr.score(X_test,Y_test)"
   ]
  },
  {
   "cell_type": "code",
   "execution_count": 23,
   "metadata": {},
   "outputs": [
    {
     "data": {
      "text/plain": [
       "array([ 1597.08339763,   356.91456966, 37475.10702339,  2662.51669193])"
      ]
     },
     "execution_count": 23,
     "metadata": {},
     "output_type": "execute_result"
    }
   ],
   "source": [
    "lr.coef_"
   ]
  },
  {
   "cell_type": "code",
   "execution_count": 24,
   "metadata": {},
   "outputs": [
    {
     "data": {
      "text/plain": [
       "112189.73649927297"
      ]
     },
     "execution_count": 24,
     "metadata": {},
     "output_type": "execute_result"
    }
   ],
   "source": [
    "lr.intercept_"
   ]
  },
  {
   "cell_type": "code",
   "execution_count": 99,
   "metadata": {},
   "outputs": [
    {
     "data": {
      "text/plain": [
       "array([[-0.68599434, -0.71774056, -0.22694868,  0.28392381, -1.36244978],\n",
       "       [-0.68599434,  1.39326109,  2.01641149,  0.56075291,  2.15394309],\n",
       "       [-0.68599434, -0.71774056,  1.09181921, -0.45664025,  0.77610744],\n",
       "       [ 1.45773797, -0.71774056, -0.13620072, -0.56221127,  0.77434891],\n",
       "       [ 1.45773797, -0.71774056,  1.75436374, -0.72825703,  1.62652767],\n",
       "       [-0.68599434,  1.39326109, -1.17717755, -1.99727037, -0.21278487],\n",
       "       [ 1.45773797, -0.71774056,  0.0353702 ,  0.82171792, -0.63583549],\n",
       "       [-0.68599434,  1.39326109,  0.0731146 , -0.79546917, -0.5819393 ],\n",
       "       [ 1.45773797, -0.71774056,  0.62039825, -0.38759909,  0.14980727],\n",
       "       [-0.68599434, -0.71774056, -1.13430539,  1.20641936, -1.50907418],\n",
       "       [-0.68599434, -0.71774056,  0.05572609, -0.26958765,  0.72392599],\n",
       "       [ 1.45773797, -0.71774056, -0.25807437, -0.20562866, -0.99035717],\n",
       "       [ 1.45773797, -0.71774056,  0.00600658,  0.05184956,  0.76237588],\n",
       "       [-0.68599434,  1.39326109, -1.60035036,  0.10125394, -1.72739998],\n",
       "       [-0.68599434, -0.71774056,  0.4020776 ,  0.51017895,  0.34395679]])"
      ]
     },
     "execution_count": 99,
     "metadata": {},
     "output_type": "execute_result"
    }
   ],
   "source": [
    "X_test"
   ]
  },
  {
   "cell_type": "code",
   "execution_count": 102,
   "metadata": {},
   "outputs": [
    {
     "data": {
      "image/png": "[encoded data removed]",
      "text/plain": [
       "<Figure size 432x288 with 1 Axes>"
      ]
     },
     "metadata": {
      "needs_background": "light"
     },
     "output_type": "display_data"
    }
   ],
   "source": [
    "plt.scatter(X_test[:,2],Y_test)\n",
    "plt.plot(X_test[:,2],Y_pred)\n",
    "plt.show()"
   ]
  }
 ],
 "metadata": {
  "kernelspec": {
   "display_name": "Python 3",
   "language": "python",
   "name": "python3"
  },
  "language_info": {
   "codemirror_mode": {
    "name": "ipython",
    "version": 3
   },
   "file_extension": ".py",
   "mimetype": "text/x-python",
   "name": "python",
   "nbconvert_exporter": "python",
   "pygments_lexer": "ipython3",
   "version": "3.7.6"
  }
 },
 "nbformat": 4,
 "nbformat_minor": 4
}
